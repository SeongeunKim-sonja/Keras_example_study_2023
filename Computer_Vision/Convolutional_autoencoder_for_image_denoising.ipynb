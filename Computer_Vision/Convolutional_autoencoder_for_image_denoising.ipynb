{
  "nbformat": 4,
  "nbformat_minor": 0,
  "metadata": {
    "colab": {
      "provenance": [],
      "authorship_tag": "ABX9TyPnyVNCWwlk+xqZmUAGTbwE",
      "include_colab_link": true
    },
    "kernelspec": {
      "name": "python3",
      "display_name": "Python 3"
    },
    "language_info": {
      "name": "python"
    },
    "accelerator": "GPU",
    "gpuClass": "standard"
  },
  "cells": [
    {
      "cell_type": "markdown",
      "metadata": {
        "id": "view-in-github",
        "colab_type": "text"
      },
      "source": [
        "<a href=\"https://colab.research.google.com/github/SeongeunKim-sonja/Keras_example_study_2023/blob/main/Computer_Vision/Convolutional_autoencoder_for_image_denoising.ipynb\" target=\"_parent\"><img src=\"https://colab.research.google.com/assets/colab-badge.svg\" alt=\"Open In Colab\"/></a>"
      ]
    },
    {
      "cell_type": "markdown",
      "source": [
        "#영상 노이즈 제거를 위한 Convolutional autoencoder\n",
        "\n",
        "*이 문서는 keras 예제를 분석하여 해설을 작성한 것입니다.*\n",
        "\n",
        "<br>[예제 페이지](https://keras.io/examples/vision/autoencoder/)\n",
        "<br>[오토인코더 설계 Keras blog](https://blog.keras.io/building-autoencoders-in-keras.html)\n",
        "<br>[오토인코더 참고 블로그](https://yeong-jin-data-blog.tistory.com/entry/Autoencoder)\n",
        "<br>\n",
        "<br>\n",
        "이 예제에서는 영상의 노이즈 제거를 위한 깊은 합성곱 오토인코더를 구현하는 방법에 대해 알아본다.<br>MNIST dataset의 노이즈 이미지를 사용하여 깨끗한 이미지로 매핑한다.<br>이 구현은 Keras 블로그의 [오토인코더 설계](https://blog.keras.io/building-autoencoders-in-keras.html) by François Chollet 를 기반으로 하고 있다. <br><br>\n",
        "\n",
        "\n"
      ],
      "metadata": {
        "id": "S6bF34ae37ly"
      }
    },
    {
      "cell_type": "markdown",
      "source": [
        "#Autoencoder\n",
        "\n",
        "비지도 학습(unsupervised) 을 이용하여 입력 데이터의 중요한 특징(feature)를 파악하는 용도로 개발이 되었다.<br>일반적으로 데이터의 특징을 추출하는 hidden layer의 뉴런 갯수가 입력값보다 작기 때문에 data를 압축시키는 효과가 있었다. \n",
        "\n",
        "  아래와 같은 목적으로 사용가능하다. \n",
        "- 차원 축소\n",
        "- Denoising\n",
        "- Anomaly & Outlier Detection\n",
        "- 추천시스템\n",
        "<br><br>\n",
        "![autoencoder.png](https://www.jeremyjordan.me/content/images/2018/03/Screen-Shot-2018-03-06-at-3.17.13-PM.png)\n",
        "\n",
        "\n",
        "\n"
      ],
      "metadata": {
        "id": "HwqxmqtkLt4T"
      }
    },
    {
      "cell_type": "markdown",
      "source": [
        "#Convolutional autoencoder\n",
        "\n",
        "오토인코더와 구조는 동일하지만, CNN처럼 합성곱 필터를 이용해 인코딩과 디코딩을 진행한다. \n",
        "<br><br>\n",
        "따라서, 이 문서에서 말하는 깊은 합성곱 오토인코더 Deep Convolution Autoencoder 란, Convolution Layer를 포함한 여러 층의 hidden Layer 구조를 띤다고 할 수 있다. "
      ],
      "metadata": {
        "id": "T1PRilUqRKGy"
      }
    },
    {
      "cell_type": "markdown",
      "source": [
        "#Setup"
      ],
      "metadata": {
        "id": "uk37XbT-UhC6"
      }
    },
    {
      "cell_type": "code",
      "source": [
        "import numpy as np\n",
        "import tensorflow as tf\n",
        "import matplotlib.pyplot as plt\n",
        "\n",
        "from tensorflow.keras import layers\n",
        "from tensorflow.keras.datasets import mnist\n",
        "from tensorflow.keras.models import Model\n",
        "\n",
        "def preprocess(array):\n",
        "    \"\"\"\n",
        "    Normalizes the supplied array and reshapes it into the appropriate format.\n",
        "    배열을 정규화하고, 적절한 형식으로 가공한다.\n",
        "    \"\"\"\n",
        "    array = array.astype(\"float32\") / 255.0\n",
        "    array = np.reshape(array, (len(array), 28, 28, 1))\n",
        "    return array\n",
        "\n",
        "\n",
        "def noise(array):\n",
        "    \"\"\"\n",
        "    Adds random noise to each image in the supplied array.\n",
        "    랜덤한 노이즈를 생성하여 배열에 공급한다. \n",
        "    \"\"\"\n",
        "\n",
        "    noise_factor = 0.4\n",
        "    noisy_array = array + noise_factor * np.random.normal(\n",
        "        loc=0.0, scale=1.0, size=array.shape\n",
        "    )\n",
        "\n",
        "    return np.clip(noisy_array, 0.0, 1.0)\n",
        "\n",
        "\n",
        "def display(array1, array2):\n",
        "    \"\"\"\n",
        "    Displays ten random images from each one of the supplied arrays.\n",
        "    배열들 중 랜덤한 이미지 하나를 뽑아 나타낸다.\n",
        "    \"\"\"\n",
        "\n",
        "    n = 10\n",
        "\n",
        "    indices = np.random.randint(len(array1), size=n)\n",
        "    images1 = array1[indices, :]\n",
        "    images2 = array2[indices, :]\n",
        "\n",
        "    plt.figure(figsize=(20, 4))\n",
        "    for i, (image1, image2) in enumerate(zip(images1, images2)):\n",
        "        ax = plt.subplot(2, n, i + 1)   #n개의 그림을 2행으로 나타냄.\n",
        "        plt.imshow(image1.reshape(28, 28))\n",
        "        plt.gray()\n",
        "        ax.get_xaxis().set_visible(False)\n",
        "        ax.get_yaxis().set_visible(False)\n",
        "\n",
        "        ax = plt.subplot(2, n, i + 1 + n)\n",
        "        plt.imshow(image2.reshape(28, 28))\n",
        "        plt.gray()\n",
        "        ax.get_xaxis().set_visible(True)\n",
        "        ax.get_yaxis().set_visible(True)\n",
        "\n",
        "    plt.show()"
      ],
      "metadata": {
        "id": "kSB275IQSYag"
      },
      "execution_count": 1,
      "outputs": []
    },
    {
      "cell_type": "markdown",
      "source": [
        "#Prepare the data"
      ],
      "metadata": {
        "id": "y3q6HNqgW5XP"
      }
    },
    {
      "cell_type": "code",
      "source": [
        "# Since we only need images from the dataset to encode and decode, we\n",
        "# won't use the labels.\n",
        "(train_data, _), (test_data, _) = mnist.load_data()\n",
        "\n",
        "# Normalize and reshape the data\n",
        "train_data = preprocess(train_data)\n",
        "test_data = preprocess(test_data)\n",
        "\n",
        "# Create a copy of the data with added noise\n",
        "noisy_train_data = noise(train_data)\n",
        "noisy_test_data = noise(test_data)\n",
        "\n",
        "# Display the train data and a version of it with added noise\n",
        "display(train_data, noisy_train_data)"
      ],
      "metadata": {
        "colab": {
          "base_uri": "https://localhost:8080/",
          "height": 298
        },
        "id": "KEGY_T-nWQN0",
        "outputId": "d813ff6e-f7eb-4bd3-c3aa-25a124cc9815"
      },
      "execution_count": 2,
      "outputs": [
        {
          "output_type": "stream",
          "name": "stdout",
          "text": [
            "Downloading data from https://storage.googleapis.com/tensorflow/tf-keras-datasets/mnist.npz\n",
            "11490434/11490434 [==============================] - 2s 0us/step\n"
          ]
        },
        {
          "output_type": "display_data",
          "data": {
            "text/plain": [
              "<Figure size 1440x288 with 20 Axes>"
            ],
            "image/png": "[encoded data removed]"
          },
          "metadata": {
            "needs_background": "light"
          }
        }
      ]
    },
    {
      "cell_type": "markdown",
      "source": [
        "#Build the autoencoder\n",
        "\n",
        "Convolution Layer와 MaxPooling을 2번 반복해서 인코더를 생성하고, \n",
        "디코더는 Conv2DTranspose 를 같은 횟수만큼 사용하도록 한다. "
      ],
      "metadata": {
        "id": "9aDtU4PiXKfP"
      }
    },
    {
      "cell_type": "code",
      "source": [
        "input = layers.Input(shape=(28, 28, 1))\n",
        "\n",
        "# Encoder\n",
        "x = layers.Conv2D(32, (3, 3), activation=\"relu\", padding=\"same\")(input)\n",
        "x = layers.MaxPooling2D((2, 2), padding=\"same\")(x)\n",
        "x = layers.Conv2D(32, (3, 3), activation=\"relu\", padding=\"same\")(x)\n",
        "x = layers.MaxPooling2D((2, 2), padding=\"same\")(x)\n",
        "\n",
        "# Decoder\n",
        "x = layers.Conv2DTranspose(32, (3, 3), strides=2, activation=\"relu\", padding=\"same\")(x)\n",
        "x = layers.Conv2DTranspose(32, (3, 3), strides=2, activation=\"relu\", padding=\"same\")(x)\n",
        "x = layers.Conv2D(1, (3, 3), activation=\"sigmoid\", padding=\"same\")(x)\n",
        "\n",
        "# Autoencoder\n",
        "autoencoder = Model(input, x)\n",
        "autoencoder.compile(optimizer=\"adam\", loss=\"binary_crossentropy\")\n",
        "autoencoder.summary()"
      ],
      "metadata": {
        "colab": {
          "base_uri": "https://localhost:8080/"
        },
        "id": "krm0-dNPZyNx",
        "outputId": "dd42b48e-f828-42f4-8bb6-ef119e5c8d94"
      },
      "execution_count": 3,
      "outputs": [
        {
          "output_type": "stream",
          "name": "stdout",
          "text": [
            "Model: \"model\"\n",
            "_________________________________________________________________\n",
            " Layer (type)                Output Shape              Param #   \n",
            "=================================================================\n",
            " input_1 (InputLayer)        [(None, 28, 28, 1)]       0         \n",
            "                                                                 \n",
            " conv2d (Conv2D)             (None, 28, 28, 32)        320       \n",
            "                                                                 \n",
            " max_pooling2d (MaxPooling2D  (None, 14, 14, 32)       0         \n",
            " )                                                               \n",
            "                                                                 \n",
            " conv2d_1 (Conv2D)           (None, 14, 14, 32)        9248      \n",
            "                                                                 \n",
            " max_pooling2d_1 (MaxPooling  (None, 7, 7, 32)         0         \n",
            " 2D)                                                             \n",
            "                                                                 \n",
            " conv2d_transpose (Conv2DTra  (None, 14, 14, 32)       9248      \n",
            " nspose)                                                         \n",
            "                                                                 \n",
            " conv2d_transpose_1 (Conv2DT  (None, 28, 28, 32)       9248      \n",
            " ranspose)                                                       \n",
            "                                                                 \n",
            " conv2d_2 (Conv2D)           (None, 28, 28, 1)         289       \n",
            "                                                                 \n",
            "=================================================================\n",
            "Total params: 28,353\n",
            "Trainable params: 28,353\n",
            "Non-trainable params: 0\n",
            "_________________________________________________________________\n"
          ]
        }
      ]
    },
    {
      "cell_type": "markdown",
      "source": [
        "위 구조를 바탕으로 오토인코더를 훈련시킨다.<br>\n",
        "validation data는 따로 분리하지 않고, test_data를 그대로 사용하였다.<br>\n",
        "이 단계에서는 바로 노이즈 이미지를 사용하지 않았고, 원본이 예측값과 얼마나 동일한지 보이기 위함이다.  "
      ],
      "metadata": {
        "id": "tZxZzwt4ayE2"
      }
    },
    {
      "cell_type": "code",
      "source": [
        "autoencoder.fit(\n",
        "    x=train_data,\n",
        "    y=train_data,\n",
        "    epochs=50,\n",
        "    batch_size=128,\n",
        "    shuffle=True,\n",
        "    validation_data=(test_data, test_data),\n",
        ")"
      ],
      "metadata": {
        "colab": {
          "base_uri": "https://localhost:8080/"
        },
        "id": "FpbisanpbD-9",
        "outputId": "bb5e7357-c0d9-44e0-f123-c6cfe8e6324a"
      },
      "execution_count": 4,
      "outputs": [
        {
          "output_type": "stream",
          "name": "stdout",
          "text": [
            "Epoch 1/50\n",
            "469/469 [==============================] - 13s 10ms/step - loss: 0.1350 - val_loss: 0.0730\n",
            "Epoch 2/50\n",
            "469/469 [==============================] - 4s 8ms/step - loss: 0.0715 - val_loss: 0.0695\n",
            "Epoch 3/50\n",
            "469/469 [==============================] - 4s 8ms/step - loss: 0.0692 - val_loss: 0.0680\n",
            "Epoch 4/50\n",
            "469/469 [==============================] - 4s 9ms/step - loss: 0.0680 - val_loss: 0.0672\n",
            "Epoch 5/50\n",
            "469/469 [==============================] - 4s 8ms/step - loss: 0.0673 - val_loss: 0.0664\n",
            "Epoch 6/50\n",
            "469/469 [==============================] - 4s 8ms/step - loss: 0.0667 - val_loss: 0.0660\n",
            "Epoch 7/50\n",
            "469/469 [==============================] - 4s 8ms/step - loss: 0.0662 - val_loss: 0.0656\n",
            "Epoch 8/50\n",
            "469/469 [==============================] - 4s 8ms/step - loss: 0.0659 - val_loss: 0.0653\n",
            "Epoch 9/50\n",
            "469/469 [==============================] - 4s 8ms/step - loss: 0.0655 - val_loss: 0.0650\n",
            "Epoch 10/50\n",
            "469/469 [==============================] - 4s 8ms/step - loss: 0.0653 - val_loss: 0.0647\n",
            "Epoch 11/50\n",
            "469/469 [==============================] - 4s 8ms/step - loss: 0.0650 - val_loss: 0.0645\n",
            "Epoch 12/50\n",
            "469/469 [==============================] - 4s 8ms/step - loss: 0.0648 - val_loss: 0.0643\n",
            "Epoch 13/50\n",
            "469/469 [==============================] - 4s 8ms/step - loss: 0.0646 - val_loss: 0.0641\n",
            "Epoch 14/50\n",
            "469/469 [==============================] - 4s 8ms/step - loss: 0.0644 - val_loss: 0.0640\n",
            "Epoch 15/50\n",
            "469/469 [==============================] - 4s 8ms/step - loss: 0.0643 - val_loss: 0.0639\n",
            "Epoch 16/50\n",
            "469/469 [==============================] - 4s 8ms/step - loss: 0.0642 - val_loss: 0.0638\n",
            "Epoch 17/50\n",
            "469/469 [==============================] - 4s 8ms/step - loss: 0.0640 - val_loss: 0.0636\n",
            "Epoch 18/50\n",
            "469/469 [==============================] - 4s 8ms/step - loss: 0.0639 - val_loss: 0.0634\n",
            "Epoch 19/50\n",
            "469/469 [==============================] - 4s 8ms/step - loss: 0.0638 - val_loss: 0.0634\n",
            "Epoch 20/50\n",
            "469/469 [==============================] - 4s 8ms/step - loss: 0.0637 - val_loss: 0.0633\n",
            "Epoch 21/50\n",
            "469/469 [==============================] - 4s 8ms/step - loss: 0.0636 - val_loss: 0.0633\n",
            "Epoch 22/50\n",
            "469/469 [==============================] - 4s 8ms/step - loss: 0.0635 - val_loss: 0.0632\n",
            "Epoch 23/50\n",
            "469/469 [==============================] - 4s 8ms/step - loss: 0.0635 - val_loss: 0.0631\n",
            "Epoch 24/50\n",
            "469/469 [==============================] - 4s 8ms/step - loss: 0.0634 - val_loss: 0.0630\n",
            "Epoch 25/50\n",
            "469/469 [==============================] - 4s 8ms/step - loss: 0.0633 - val_loss: 0.0630\n",
            "Epoch 26/50\n",
            "469/469 [==============================] - 4s 8ms/step - loss: 0.0633 - val_loss: 0.0629\n",
            "Epoch 27/50\n",
            "469/469 [==============================] - 4s 8ms/step - loss: 0.0632 - val_loss: 0.0628\n",
            "Epoch 28/50\n",
            "469/469 [==============================] - 4s 8ms/step - loss: 0.0631 - val_loss: 0.0627\n",
            "Epoch 29/50\n",
            "469/469 [==============================] - 4s 8ms/step - loss: 0.0631 - val_loss: 0.0629\n",
            "Epoch 30/50\n",
            "469/469 [==============================] - 4s 8ms/step - loss: 0.0630 - val_loss: 0.0626\n",
            "Epoch 31/50\n",
            "469/469 [==============================] - 4s 8ms/step - loss: 0.0630 - val_loss: 0.0627\n",
            "Epoch 32/50\n",
            "469/469 [==============================] - 4s 8ms/step - loss: 0.0629 - val_loss: 0.0626\n",
            "Epoch 33/50\n",
            "469/469 [==============================] - 4s 8ms/step - loss: 0.0629 - val_loss: 0.0626\n",
            "Epoch 34/50\n",
            "469/469 [==============================] - 4s 8ms/step - loss: 0.0629 - val_loss: 0.0625\n",
            "Epoch 35/50\n",
            "469/469 [==============================] - 4s 8ms/step - loss: 0.0628 - val_loss: 0.0625\n",
            "Epoch 36/50\n",
            "469/469 [==============================] - 4s 8ms/step - loss: 0.0628 - val_loss: 0.0624\n",
            "Epoch 37/50\n",
            "469/469 [==============================] - 4s 8ms/step - loss: 0.0628 - val_loss: 0.0624\n",
            "Epoch 38/50\n",
            "469/469 [==============================] - 4s 8ms/step - loss: 0.0627 - val_loss: 0.0624\n",
            "Epoch 39/50\n",
            "469/469 [==============================] - 4s 8ms/step - loss: 0.0627 - val_loss: 0.0623\n",
            "Epoch 40/50\n",
            "469/469 [==============================] - 4s 8ms/step - loss: 0.0627 - val_loss: 0.0624\n",
            "Epoch 41/50\n",
            "469/469 [==============================] - 4s 8ms/step - loss: 0.0626 - val_loss: 0.0623\n",
            "Epoch 42/50\n",
            "469/469 [==============================] - 4s 8ms/step - loss: 0.0626 - val_loss: 0.0623\n",
            "Epoch 43/50\n",
            "469/469 [==============================] - 4s 8ms/step - loss: 0.0626 - val_loss: 0.0623\n",
            "Epoch 44/50\n",
            "469/469 [==============================] - 4s 8ms/step - loss: 0.0625 - val_loss: 0.0622\n",
            "Epoch 45/50\n",
            "469/469 [==============================] - 4s 9ms/step - loss: 0.0625 - val_loss: 0.0622\n",
            "Epoch 46/50\n",
            "469/469 [==============================] - 4s 8ms/step - loss: 0.0625 - val_loss: 0.0621\n",
            "Epoch 47/50\n",
            "469/469 [==============================] - 4s 8ms/step - loss: 0.0625 - val_loss: 0.0621\n",
            "Epoch 48/50\n",
            "469/469 [==============================] - 4s 8ms/step - loss: 0.0624 - val_loss: 0.0621\n",
            "Epoch 49/50\n",
            "469/469 [==============================] - 4s 8ms/step - loss: 0.0624 - val_loss: 0.0621\n",
            "Epoch 50/50\n",
            "469/469 [==============================] - 4s 8ms/step - loss: 0.0624 - val_loss: 0.0620\n"
          ]
        },
        {
          "output_type": "execute_result",
          "data": {
            "text/plain": [
              "<keras.callbacks.History at 0x7f893053e400>"
            ]
          },
          "metadata": {},
          "execution_count": 4
        }
      ]
    },
    {
      "cell_type": "code",
      "source": [
        "predictions = autoencoder.predict(test_data)\n",
        "display(test_data, predictions)"
      ],
      "metadata": {
        "colab": {
          "base_uri": "https://localhost:8080/",
          "height": 279
        },
        "id": "tjWV-_pibG1q",
        "outputId": "1615ee25-0468-4803-f830-af4613a8d61a"
      },
      "execution_count": 5,
      "outputs": [
        {
          "output_type": "stream",
          "name": "stdout",
          "text": [
            "313/313 [==============================] - 1s 2ms/step\n"
          ]
        },
        {
          "output_type": "display_data",
          "data": {
            "text/plain": [
              "<Figure size 1440x288 with 20 Axes>"
            ],
            "image/png": "[encoded data removed]"
          },
          "metadata": {
            "needs_background": "light"
          }
        }
      ]
    },
    {
      "cell_type": "markdown",
      "source": [
        "위의 결과로 오토인코더가 작동하는 것을 확인하면, 이제 노이즈 이미지를 입력으로 사용해 재훈련 시킨다. "
      ],
      "metadata": {
        "id": "yHFotvM2bc9r"
      }
    },
    {
      "cell_type": "code",
      "source": [
        "autoencoder.fit(\n",
        "    x=noisy_train_data,\n",
        "    y=train_data,\n",
        "    epochs=100,\n",
        "    batch_size=128,\n",
        "    shuffle=True,\n",
        "    validation_data=(noisy_test_data, test_data),\n",
        ")"
      ],
      "metadata": {
        "colab": {
          "base_uri": "https://localhost:8080/"
        },
        "id": "7l_-iQcDbNDw",
        "outputId": "1cc869cf-41e1-4fe4-d711-682cfc341226"
      },
      "execution_count": 6,
      "outputs": [
        {
          "output_type": "stream",
          "name": "stdout",
          "text": [
            "Epoch 1/100\n",
            "469/469 [==============================] - 4s 8ms/step - loss: 0.1015 - val_loss: 0.0941\n",
            "Epoch 2/100\n",
            "469/469 [==============================] - 4s 8ms/step - loss: 0.0937 - val_loss: 0.0918\n",
            "Epoch 3/100\n",
            "469/469 [==============================] - 4s 8ms/step - loss: 0.0920 - val_loss: 0.0905\n",
            "Epoch 4/100\n",
            "469/469 [==============================] - 4s 8ms/step - loss: 0.0909 - val_loss: 0.0897\n",
            "Epoch 5/100\n",
            "469/469 [==============================] - 4s 8ms/step - loss: 0.0902 - val_loss: 0.0896\n",
            "Epoch 6/100\n",
            "469/469 [==============================] - 4s 8ms/step - loss: 0.0896 - val_loss: 0.0885\n",
            "Epoch 7/100\n",
            "469/469 [==============================] - 4s 8ms/step - loss: 0.0891 - val_loss: 0.0886\n",
            "Epoch 8/100\n",
            "469/469 [==============================] - 4s 8ms/step - loss: 0.0887 - val_loss: 0.0877\n",
            "Epoch 9/100\n",
            "469/469 [==============================] - 4s 8ms/step - loss: 0.0883 - val_loss: 0.0878\n",
            "Epoch 10/100\n",
            "469/469 [==============================] - 4s 8ms/step - loss: 0.0880 - val_loss: 0.0873\n",
            "Epoch 11/100\n",
            "469/469 [==============================] - 4s 8ms/step - loss: 0.0878 - val_loss: 0.0871\n",
            "Epoch 12/100\n",
            "469/469 [==============================] - 4s 8ms/step - loss: 0.0875 - val_loss: 0.0867\n",
            "Epoch 13/100\n",
            "469/469 [==============================] - 4s 8ms/step - loss: 0.0873 - val_loss: 0.0866\n",
            "Epoch 14/100\n",
            "469/469 [==============================] - 4s 8ms/step - loss: 0.0871 - val_loss: 0.0863\n",
            "Epoch 15/100\n",
            "469/469 [==============================] - 4s 8ms/step - loss: 0.0869 - val_loss: 0.0863\n",
            "Epoch 16/100\n",
            "469/469 [==============================] - 4s 8ms/step - loss: 0.0867 - val_loss: 0.0861\n",
            "Epoch 17/100\n",
            "469/469 [==============================] - 4s 8ms/step - loss: 0.0866 - val_loss: 0.0860\n",
            "Epoch 18/100\n",
            "469/469 [==============================] - 4s 8ms/step - loss: 0.0864 - val_loss: 0.0858\n",
            "Epoch 19/100\n",
            "469/469 [==============================] - 4s 8ms/step - loss: 0.0863 - val_loss: 0.0858\n",
            "Epoch 20/100\n",
            "469/469 [==============================] - 4s 8ms/step - loss: 0.0862 - val_loss: 0.0857\n",
            "Epoch 21/100\n",
            "469/469 [==============================] - 4s 8ms/step - loss: 0.0861 - val_loss: 0.0855\n",
            "Epoch 22/100\n",
            "469/469 [==============================] - 4s 8ms/step - loss: 0.0860 - val_loss: 0.0855\n",
            "Epoch 23/100\n",
            "469/469 [==============================] - 4s 8ms/step - loss: 0.0859 - val_loss: 0.0854\n",
            "Epoch 24/100\n",
            "469/469 [==============================] - 4s 8ms/step - loss: 0.0858 - val_loss: 0.0853\n",
            "Epoch 25/100\n",
            "469/469 [==============================] - 4s 8ms/step - loss: 0.0857 - val_loss: 0.0852\n",
            "Epoch 26/100\n",
            "469/469 [==============================] - 4s 8ms/step - loss: 0.0857 - val_loss: 0.0852\n",
            "Epoch 27/100\n",
            "469/469 [==============================] - 4s 8ms/step - loss: 0.0856 - val_loss: 0.0851\n",
            "Epoch 28/100\n",
            "469/469 [==============================] - 4s 8ms/step - loss: 0.0856 - val_loss: 0.0851\n",
            "Epoch 29/100\n",
            "469/469 [==============================] - 4s 8ms/step - loss: 0.0855 - val_loss: 0.0850\n",
            "Epoch 30/100\n",
            "469/469 [==============================] - 4s 8ms/step - loss: 0.0855 - val_loss: 0.0850\n",
            "Epoch 31/100\n",
            "469/469 [==============================] - 4s 8ms/step - loss: 0.0854 - val_loss: 0.0849\n",
            "Epoch 32/100\n",
            "469/469 [==============================] - 4s 8ms/step - loss: 0.0854 - val_loss: 0.0850\n",
            "Epoch 33/100\n",
            "469/469 [==============================] - 4s 9ms/step - loss: 0.0853 - val_loss: 0.0848\n",
            "Epoch 34/100\n",
            "469/469 [==============================] - 4s 8ms/step - loss: 0.0853 - val_loss: 0.0849\n",
            "Epoch 35/100\n",
            "469/469 [==============================] - 4s 8ms/step - loss: 0.0852 - val_loss: 0.0848\n",
            "Epoch 36/100\n",
            "469/469 [==============================] - 4s 8ms/step - loss: 0.0852 - val_loss: 0.0848\n",
            "Epoch 37/100\n",
            "469/469 [==============================] - 4s 8ms/step - loss: 0.0852 - val_loss: 0.0846\n",
            "Epoch 38/100\n",
            "469/469 [==============================] - 4s 8ms/step - loss: 0.0851 - val_loss: 0.0847\n",
            "Epoch 39/100\n",
            "469/469 [==============================] - 4s 8ms/step - loss: 0.0851 - val_loss: 0.0846\n",
            "Epoch 40/100\n",
            "469/469 [==============================] - 4s 8ms/step - loss: 0.0851 - val_loss: 0.0847\n",
            "Epoch 41/100\n",
            "469/469 [==============================] - 4s 8ms/step - loss: 0.0850 - val_loss: 0.0846\n",
            "Epoch 42/100\n",
            "469/469 [==============================] - 4s 8ms/step - loss: 0.0850 - val_loss: 0.0847\n",
            "Epoch 43/100\n",
            "469/469 [==============================] - 4s 8ms/step - loss: 0.0850 - val_loss: 0.0846\n",
            "Epoch 44/100\n",
            "469/469 [==============================] - 4s 8ms/step - loss: 0.0850 - val_loss: 0.0845\n",
            "Epoch 45/100\n",
            "469/469 [==============================] - 4s 8ms/step - loss: 0.0849 - val_loss: 0.0848\n",
            "Epoch 46/100\n",
            "469/469 [==============================] - 4s 8ms/step - loss: 0.0849 - val_loss: 0.0845\n",
            "Epoch 47/100\n",
            "469/469 [==============================] - 4s 8ms/step - loss: 0.0849 - val_loss: 0.0846\n",
            "Epoch 48/100\n",
            "469/469 [==============================] - 4s 8ms/step - loss: 0.0849 - val_loss: 0.0844\n",
            "Epoch 49/100\n",
            "469/469 [==============================] - 4s 8ms/step - loss: 0.0848 - val_loss: 0.0844\n",
            "Epoch 50/100\n",
            "469/469 [==============================] - 4s 8ms/step - loss: 0.0848 - val_loss: 0.0845\n",
            "Epoch 51/100\n",
            "469/469 [==============================] - 4s 8ms/step - loss: 0.0848 - val_loss: 0.0844\n",
            "Epoch 52/100\n",
            "469/469 [==============================] - 4s 8ms/step - loss: 0.0848 - val_loss: 0.0846\n",
            "Epoch 53/100\n",
            "469/469 [==============================] - 4s 8ms/step - loss: 0.0848 - val_loss: 0.0846\n",
            "Epoch 54/100\n",
            "469/469 [==============================] - 4s 8ms/step - loss: 0.0848 - val_loss: 0.0845\n",
            "Epoch 55/100\n",
            "469/469 [==============================] - 4s 8ms/step - loss: 0.0848 - val_loss: 0.0843\n",
            "Epoch 56/100\n",
            "469/469 [==============================] - 4s 8ms/step - loss: 0.0847 - val_loss: 0.0844\n",
            "Epoch 57/100\n",
            "469/469 [==============================] - 4s 8ms/step - loss: 0.0847 - val_loss: 0.0844\n",
            "Epoch 58/100\n",
            "469/469 [==============================] - 4s 8ms/step - loss: 0.0847 - val_loss: 0.0843\n",
            "Epoch 59/100\n",
            "469/469 [==============================] - 4s 8ms/step - loss: 0.0847 - val_loss: 0.0843\n",
            "Epoch 60/100\n",
            "469/469 [==============================] - 4s 8ms/step - loss: 0.0847 - val_loss: 0.0843\n",
            "Epoch 61/100\n",
            "469/469 [==============================] - 4s 8ms/step - loss: 0.0846 - val_loss: 0.0843\n",
            "Epoch 62/100\n",
            "469/469 [==============================] - 4s 8ms/step - loss: 0.0846 - val_loss: 0.0843\n",
            "Epoch 63/100\n",
            "469/469 [==============================] - 4s 8ms/step - loss: 0.0846 - val_loss: 0.0843\n",
            "Epoch 64/100\n",
            "469/469 [==============================] - 4s 8ms/step - loss: 0.0846 - val_loss: 0.0843\n",
            "Epoch 65/100\n",
            "469/469 [==============================] - 4s 8ms/step - loss: 0.0846 - val_loss: 0.0845\n",
            "Epoch 66/100\n",
            "469/469 [==============================] - 4s 8ms/step - loss: 0.0846 - val_loss: 0.0843\n",
            "Epoch 67/100\n",
            "469/469 [==============================] - 4s 8ms/step - loss: 0.0846 - val_loss: 0.0842\n",
            "Epoch 68/100\n",
            "469/469 [==============================] - 4s 8ms/step - loss: 0.0846 - val_loss: 0.0843\n",
            "Epoch 69/100\n",
            "469/469 [==============================] - 4s 8ms/step - loss: 0.0846 - val_loss: 0.0843\n",
            "Epoch 70/100\n",
            "469/469 [==============================] - 4s 8ms/step - loss: 0.0845 - val_loss: 0.0842\n",
            "Epoch 71/100\n",
            "469/469 [==============================] - 4s 8ms/step - loss: 0.0845 - val_loss: 0.0842\n",
            "Epoch 72/100\n",
            "469/469 [==============================] - 4s 8ms/step - loss: 0.0845 - val_loss: 0.0842\n",
            "Epoch 73/100\n",
            "469/469 [==============================] - 4s 8ms/step - loss: 0.0845 - val_loss: 0.0842\n",
            "Epoch 74/100\n",
            "469/469 [==============================] - 4s 8ms/step - loss: 0.0845 - val_loss: 0.0842\n",
            "Epoch 75/100\n",
            "469/469 [==============================] - 4s 8ms/step - loss: 0.0845 - val_loss: 0.0843\n",
            "Epoch 76/100\n",
            "469/469 [==============================] - 4s 8ms/step - loss: 0.0845 - val_loss: 0.0842\n",
            "Epoch 77/100\n",
            "469/469 [==============================] - 4s 8ms/step - loss: 0.0845 - val_loss: 0.0842\n",
            "Epoch 78/100\n",
            "469/469 [==============================] - 4s 8ms/step - loss: 0.0845 - val_loss: 0.0843\n",
            "Epoch 79/100\n",
            "469/469 [==============================] - 4s 8ms/step - loss: 0.0844 - val_loss: 0.0842\n",
            "Epoch 80/100\n",
            "469/469 [==============================] - 4s 8ms/step - loss: 0.0845 - val_loss: 0.0842\n",
            "Epoch 81/100\n",
            "469/469 [==============================] - 4s 9ms/step - loss: 0.0844 - val_loss: 0.0841\n",
            "Epoch 82/100\n",
            "469/469 [==============================] - 4s 8ms/step - loss: 0.0844 - val_loss: 0.0841\n",
            "Epoch 83/100\n",
            "469/469 [==============================] - 4s 8ms/step - loss: 0.0844 - val_loss: 0.0842\n",
            "Epoch 84/100\n",
            "469/469 [==============================] - 4s 8ms/step - loss: 0.0844 - val_loss: 0.0841\n",
            "Epoch 85/100\n",
            "469/469 [==============================] - 4s 8ms/step - loss: 0.0844 - val_loss: 0.0841\n",
            "Epoch 86/100\n",
            "469/469 [==============================] - 4s 8ms/step - loss: 0.0844 - val_loss: 0.0841\n",
            "Epoch 87/100\n",
            "469/469 [==============================] - 4s 8ms/step - loss: 0.0844 - val_loss: 0.0841\n",
            "Epoch 88/100\n",
            "469/469 [==============================] - 4s 8ms/step - loss: 0.0844 - val_loss: 0.0841\n",
            "Epoch 89/100\n",
            "469/469 [==============================] - 4s 8ms/step - loss: 0.0844 - val_loss: 0.0845\n",
            "Epoch 90/100\n",
            "469/469 [==============================] - 4s 8ms/step - loss: 0.0844 - val_loss: 0.0841\n",
            "Epoch 91/100\n",
            "469/469 [==============================] - 4s 8ms/step - loss: 0.0844 - val_loss: 0.0843\n",
            "Epoch 92/100\n",
            "469/469 [==============================] - 4s 8ms/step - loss: 0.0843 - val_loss: 0.0841\n",
            "Epoch 93/100\n",
            "469/469 [==============================] - 4s 8ms/step - loss: 0.0843 - val_loss: 0.0841\n",
            "Epoch 94/100\n",
            "469/469 [==============================] - 4s 8ms/step - loss: 0.0843 - val_loss: 0.0842\n",
            "Epoch 95/100\n",
            "469/469 [==============================] - 4s 8ms/step - loss: 0.0844 - val_loss: 0.0844\n",
            "Epoch 96/100\n",
            "469/469 [==============================] - 4s 8ms/step - loss: 0.0843 - val_loss: 0.0843\n",
            "Epoch 97/100\n",
            "469/469 [==============================] - 4s 8ms/step - loss: 0.0843 - val_loss: 0.0840\n",
            "Epoch 98/100\n",
            "469/469 [==============================] - 4s 8ms/step - loss: 0.0843 - val_loss: 0.0841\n",
            "Epoch 99/100\n",
            "469/469 [==============================] - 4s 8ms/step - loss: 0.0843 - val_loss: 0.0840\n",
            "Epoch 100/100\n",
            "469/469 [==============================] - 4s 8ms/step - loss: 0.0843 - val_loss: 0.0840\n"
          ]
        },
        {
          "output_type": "execute_result",
          "data": {
            "text/plain": [
              "<keras.callbacks.History at 0x7f88d43d2b20>"
            ]
          },
          "metadata": {},
          "execution_count": 6
        }
      ]
    },
    {
      "cell_type": "code",
      "source": [
        "predictions = autoencoder.predict(noisy_test_data)\n",
        "display(noisy_test_data, predictions)"
      ],
      "metadata": {
        "colab": {
          "base_uri": "https://localhost:8080/",
          "height": 279
        },
        "id": "IYYkLN7BbkJL",
        "outputId": "aa2a44eb-4a90-49a7-e3a4-2552571c5a29"
      },
      "execution_count": 9,
      "outputs": [
        {
          "output_type": "stream",
          "name": "stdout",
          "text": [
            "313/313 [==============================] - 1s 2ms/step\n"
          ]
        },
        {
          "output_type": "display_data",
          "data": {
            "text/plain": [
              "<Figure size 1440x288 with 20 Axes>"
            ],
            "image/png": "[encoded data removed]"
          },
          "metadata": {
            "needs_background": "light"
          }
        }
      ]
    },
    {
      "cell_type": "markdown",
      "source": [
        "#확장\n",
        "\n",
        "- 컬러 이미지의 노이즈 제거 오토 인코더의 설계는 어떻게 하면 좋을까? \n",
        "- 노이즈 제거에 특화된 최근의 다른 모델이 있는지<br> \n",
        "  -> Nvidia 노이즈가 심한 영상이나 워터마크 제거 "
      ],
      "metadata": {
        "id": "32UIFRi1blrY"
      }
    }
  ]
}