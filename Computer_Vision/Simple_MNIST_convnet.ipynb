{
  "nbformat": 4,
  "nbformat_minor": 0,
  "metadata": {
    "colab": {
      "provenance": [],
      "authorship_tag": "ABX9TyOPbPyTSrO+RG+F8HTscqLk",
      "include_colab_link": true
    },
    "kernelspec": {
      "name": "python3",
      "display_name": "Python 3"
    },
    "language_info": {
      "name": "python"
    },
    "accelerator": "GPU",
    "gpuClass": "standard"
  },
  "cells": [
    {
      "cell_type": "markdown",
      "metadata": {
        "id": "view-in-github",
        "colab_type": "text"
      },
      "source": [
        "<a href=\"https://colab.research.google.com/github/SeongeunKim-sonja/Keras_example_study_2023/blob/main/Computer_Vision/Simple_MNIST_convnet.ipynb\" target=\"_parent\"><img src=\"https://colab.research.google.com/assets/colab-badge.svg\" alt=\"Open In Colab\"/></a>"
      ]
    },
    {
      "cell_type": "markdown",
      "source": [
        "#단순한 MNIST CNN(합성곱 신경망) \n",
        "\n",
        "*이 문서는 keras 예제를 분석하여 해설을 작성한 것입니다.*\n",
        "\n",
        "<br>[예제 페이지](https://keras.io/examples/vision/mnist_convnet/)\n",
        "<br>\n",
        "<br>\n",
        "\n",
        "MNIST 데이터셋을 99%의 정확도로 분류 가능한 단순한 구조의 Convolution Neural Network를 구성해본다. "
      ],
      "metadata": {
        "id": "YUJuUSxL2GFt"
      }
    },
    {
      "cell_type": "markdown",
      "source": [
        "#Setup"
      ],
      "metadata": {
        "id": "1QaVQymJ2y4G"
      }
    },
    {
      "cell_type": "code",
      "execution_count": null,
      "metadata": {
        "id": "Gb-wd3iu12z-"
      },
      "outputs": [],
      "source": [
        "import numpy as np\n",
        "from tensorflow import keras\n",
        "from tensorflow.keras import layers\n",
        "import matplotlib.pyplot as plt\n"
      ]
    },
    {
      "cell_type": "markdown",
      "source": [
        "#데이터 준비\n",
        "\n"
      ],
      "metadata": {
        "id": "38nIxYha234A"
      }
    },
    {
      "cell_type": "code",
      "source": [
        "# Model / data parameters\n",
        "# 0~9까지의 숫자 손글씨 데이터 = 10개 클래스, 각각 가로세로 28px의 흑백 데이터\n",
        "num_classes = 10\n",
        "input_shape = (28, 28, 1)\n",
        "\n",
        "# Load the data and split it between train and test sets\n",
        "#데이터를 호출해 학습용 데이터와 실험용 데이터를 나눈다. \n",
        "(x_train, y_train), (x_test, y_test) = keras.datasets.mnist.load_data()\n",
        "\n",
        "#데이터 샘플\n",
        "plt.imshow(x_train[0])\n",
        "\n",
        "\n",
        "# Scale images to the [0, 1] range\n",
        "# 흑백 이미지를 정규화한다. \n",
        "x_train = x_train.astype(\"float32\") / 255\n",
        "x_test = x_test.astype(\"float32\") / 255\n",
        "# Make sure images have shape (28, 28, 1)\n",
        "x_train = np.expand_dims(x_train, -1)   #축을 추가한한다. \n",
        "x_test = np.expand_dims(x_test, -1)\n",
        "print(\"x_train shape:\", x_train.shape)\n",
        "print(x_train.shape[0], \"train samples\")\n",
        "print(x_test.shape[0], \"test samples\")\n",
        "\n",
        "\n",
        "# convert class vectors to binary class matrices\n",
        "#결과값을 one-hot encoding 해주는 함수 utils.to_categorical\n",
        "y_train = keras.utils.to_categorical(y_train, num_classes)\n",
        "y_test = keras.utils.to_categorical(y_test, num_classes)"
      ],
      "metadata": {
        "id": "ElgvDQdQ3Kyv",
        "colab": {
          "base_uri": "https://localhost:8080/",
          "height": 320
        },
        "outputId": "e9e972b7-4749-4ec1-be66-e5c084248767"
      },
      "execution_count": null,
      "outputs": [
        {
          "output_type": "stream",
          "name": "stdout",
          "text": [
            "x_train shape: (60000, 28, 28, 1)\n",
            "60000 train samples\n",
            "10000 test samples\n"
          ]
        },
        {
          "output_type": "display_data",
          "data": {
            "text/plain": [
              "<Figure size 432x288 with 1 Axes>"
            ],
            "image/png": "[encoded data removed]"
          },
          "metadata": {
            "needs_background": "light"
          }
        }
      ]
    },
    {
      "cell_type": "markdown",
      "source": [
        "#CNN 모델 생성"
      ],
      "metadata": {
        "id": "b-lB7WqE5O2r"
      }
    },
    {
      "cell_type": "code",
      "source": [
        "model = keras.Sequential(\n",
        "    [\n",
        "        keras.Input(shape=input_shape),\n",
        "        layers.Conv2D(32, kernel_size=(3, 3), activation=\"relu\"),\n",
        "        layers.MaxPooling2D(pool_size=(2, 2)),\n",
        "        layers.Conv2D(64, kernel_size=(3, 3), activation=\"relu\"),\n",
        "        layers.MaxPooling2D(pool_size=(2, 2)),\n",
        "        layers.Flatten(),\n",
        "        layers.Dropout(0.5),\n",
        "        layers.Dense(num_classes, activation=\"softmax\"),\n",
        "    ]\n",
        "\n",
        ")\n",
        "\n",
        "model.summary()"
      ],
      "metadata": {
        "id": "sLRLOEzi5cmD",
        "colab": {
          "base_uri": "https://localhost:8080/"
        },
        "outputId": "09d6d076-a743-4334-9bf8-1569a8dfe2ae"
      },
      "execution_count": null,
      "outputs": [
        {
          "output_type": "stream",
          "name": "stdout",
          "text": [
            "Model: \"sequential_2\"\n",
            "_________________________________________________________________\n",
            " Layer (type)                Output Shape              Param #   \n",
            "=================================================================\n",
            " conv2d_4 (Conv2D)           (None, 26, 26, 32)        320       \n",
            "                                                                 \n",
            " max_pooling2d_4 (MaxPooling  (None, 13, 13, 32)       0         \n",
            " 2D)                                                             \n",
            "                                                                 \n",
            " conv2d_5 (Conv2D)           (None, 11, 11, 64)        18496     \n",
            "                                                                 \n",
            " max_pooling2d_5 (MaxPooling  (None, 5, 5, 64)         0         \n",
            " 2D)                                                             \n",
            "                                                                 \n",
            " flatten_2 (Flatten)         (None, 1600)              0         \n",
            "                                                                 \n",
            " dropout_2 (Dropout)         (None, 1600)              0         \n",
            "                                                                 \n",
            " dense_2 (Dense)             (None, 10)                16010     \n",
            "                                                                 \n",
            "=================================================================\n",
            "Total params: 34,826\n",
            "Trainable params: 34,826\n",
            "Non-trainable params: 0\n",
            "_________________________________________________________________\n"
          ]
        }
      ]
    },
    {
      "cell_type": "markdown",
      "source": [
        "conv2d 레이어의 Parmeter 수는 다음에 의해서 결정된다.\n",
        "\n",
        "**Parmeter 수 = (conv필터 가로 x 세로 x 데이터 깊이 + bias 1개) x 필터 수**\n",
        "\n",
        "ex) \n",
        "\n",
        "conv2d_2 Layer의 경우 - (3 x 3 x 1 + 1) x 32 = 320\n",
        "\n",
        "conv2d_3 Layer의 경우 - (3 x 3 x 32 + 1) x 64 =  18496"
      ],
      "metadata": {
        "id": "mOCl_Xp56PNO"
      }
    },
    {
      "cell_type": "markdown",
      "source": [
        "#모델 학습"
      ],
      "metadata": {
        "id": "q2AP1Azt6DiY"
      }
    },
    {
      "cell_type": "code",
      "source": [
        "batch_size = 128\n",
        "epochs = 15\n",
        "\n",
        "model.compile(loss=\"categorical_crossentropy\", optimizer=\"adam\", metrics=[\"accuracy\"])\n",
        "#여러 카테고리를 분류하니까 + one-hot 인코딩이므로 \n",
        "#loss function 은 categorical_crossentropy, \n",
        "#모델 마지막 레이어의 activation function 은 softmax\n",
        "# categorical_crossentropy 와 sparse_categorical_crossentropy(정수 형태) 와 비교하여 기억하자 \n",
        "\n",
        "history = model.fit(x_train, y_train, batch_size=batch_size, epochs=epochs, validation_split=0.1)\n",
        "#validation_split 설정시 그만큼의 데이터를 검증용으로 쓰겠다는 것을 의미한다. "
      ],
      "metadata": {
        "colab": {
          "base_uri": "https://localhost:8080/"
        },
        "id": "NWdSpJEv6GHv",
        "outputId": "404048cb-ef62-4be7-f2b2-bf3ef44f3de5"
      },
      "execution_count": null,
      "outputs": [
        {
          "output_type": "stream",
          "name": "stdout",
          "text": [
            "Epoch 1/15\n",
            "422/422 [==============================] - 3s 6ms/step - loss: 0.0345 - accuracy: 0.9885 - val_loss: 0.0322 - val_accuracy: 0.9927\n",
            "Epoch 2/15\n",
            "422/422 [==============================] - 2s 5ms/step - loss: 0.0330 - accuracy: 0.9892 - val_loss: 0.0290 - val_accuracy: 0.9922\n",
            "Epoch 3/15\n",
            "422/422 [==============================] - 2s 5ms/step - loss: 0.0311 - accuracy: 0.9897 - val_loss: 0.0313 - val_accuracy: 0.9920\n",
            "Epoch 4/15\n",
            "422/422 [==============================] - 2s 5ms/step - loss: 0.0282 - accuracy: 0.9911 - val_loss: 0.0256 - val_accuracy: 0.9927\n",
            "Epoch 5/15\n",
            "422/422 [==============================] - 2s 5ms/step - loss: 0.0279 - accuracy: 0.9907 - val_loss: 0.0287 - val_accuracy: 0.9922\n",
            "Epoch 6/15\n",
            "422/422 [==============================] - 2s 5ms/step - loss: 0.0275 - accuracy: 0.9905 - val_loss: 0.0269 - val_accuracy: 0.9932\n",
            "Epoch 7/15\n",
            "422/422 [==============================] - 2s 5ms/step - loss: 0.0250 - accuracy: 0.9915 - val_loss: 0.0266 - val_accuracy: 0.9928\n",
            "Epoch 8/15\n",
            "422/422 [==============================] - 2s 5ms/step - loss: 0.0248 - accuracy: 0.9917 - val_loss: 0.0267 - val_accuracy: 0.9928\n",
            "Epoch 9/15\n",
            "422/422 [==============================] - 2s 5ms/step - loss: 0.0235 - accuracy: 0.9924 - val_loss: 0.0270 - val_accuracy: 0.9933\n",
            "Epoch 10/15\n",
            "422/422 [==============================] - 2s 5ms/step - loss: 0.0234 - accuracy: 0.9922 - val_loss: 0.0278 - val_accuracy: 0.9932\n",
            "Epoch 11/15\n",
            "422/422 [==============================] - 2s 5ms/step - loss: 0.0226 - accuracy: 0.9922 - val_loss: 0.0276 - val_accuracy: 0.9928\n",
            "Epoch 12/15\n",
            "422/422 [==============================] - 2s 5ms/step - loss: 0.0220 - accuracy: 0.9920 - val_loss: 0.0280 - val_accuracy: 0.9935\n",
            "Epoch 13/15\n",
            "422/422 [==============================] - 2s 5ms/step - loss: 0.0218 - accuracy: 0.9926 - val_loss: 0.0270 - val_accuracy: 0.9933\n",
            "Epoch 14/15\n",
            "422/422 [==============================] - 2s 5ms/step - loss: 0.0206 - accuracy: 0.9928 - val_loss: 0.0279 - val_accuracy: 0.9933\n",
            "Epoch 15/15\n",
            "422/422 [==============================] - 2s 5ms/step - loss: 0.0203 - accuracy: 0.9929 - val_loss: 0.0273 - val_accuracy: 0.9942\n"
          ]
        }
      ]
    },
    {
      "cell_type": "markdown",
      "source": [
        "#학습한 모델 평가"
      ],
      "metadata": {
        "id": "koyN0_-15kGT"
      }
    },
    {
      "cell_type": "code",
      "source": [
        "score = model.evaluate(x_test, y_test, verbose=0)\n",
        "print(\"Test loss:\", score[0])\n",
        "print(\"Test accuracy:\", score[1])\n",
        "\n",
        "plt.plot(history.history[\"loss\"])\n",
        "plt.plot(history.history[\"val_loss\"])\n",
        "plt.show() "
      ],
      "metadata": {
        "id": "51A9isAH7XqT",
        "colab": {
          "base_uri": "https://localhost:8080/",
          "height": 302
        },
        "outputId": "737977b4-a06f-452b-846f-3264e4ba87fe"
      },
      "execution_count": null,
      "outputs": [
        {
          "output_type": "stream",
          "name": "stdout",
          "text": [
            "Test loss: 0.02343999408185482\n",
            "Test accuracy: 0.9926999807357788\n"
          ]
        },
        {
          "output_type": "display_data",
          "data": {
            "text/plain": [
              "<Figure size 432x288 with 1 Axes>"
            ],
            "image/png": "[encoded data removed]"
          },
          "metadata": {
            "needs_background": "light"
          }
        }
      ]
    },
    {
      "cell_type": "code",
      "source": [
        "#테스트 데이터로 실제 예픅을 해본다. \n",
        "y_ = model.predict(x_test)\n",
        "print(y_)\n",
        "\n",
        "#argmax 로 가장 예측값이 높게 나온 원소를 추출하여 확인할 수 있다.\n",
        "predicted = np.argmax(y_, axis=1)\n",
        "print(predicted)"
      ],
      "metadata": {
        "colab": {
          "base_uri": "https://localhost:8080/"
        },
        "id": "ImUPqTvk_scC",
        "outputId": "68814b0b-b410-49f9-d8e0-ade0bba405a0"
      },
      "execution_count": null,
      "outputs": [
        {
          "output_type": "stream",
          "name": "stdout",
          "text": [
            "313/313 [==============================] - 0s 2ms/step\n",
            "[[4.4101428e-12 5.3346701e-14 1.7105970e-07 ... 9.9999976e-01\n",
            "  2.9858882e-10 1.6627581e-08]\n",
            " [1.2994208e-08 2.3170779e-08 9.9999988e-01 ... 2.5046676e-14\n",
            "  1.6113869e-10 1.8339775e-15]\n",
            " [3.1702712e-09 9.9987197e-01 8.2889125e-07 ... 1.8877032e-05\n",
            "  1.7857531e-06 3.3270972e-08]\n",
            " ...\n",
            " [3.5583375e-16 7.3744188e-12 4.0995039e-13 ... 1.8028206e-08\n",
            "  7.5007540e-07 2.8476835e-08]\n",
            " [1.0450630e-08 4.9849117e-18 1.4639337e-11 ... 4.4052696e-16\n",
            "  5.0022813e-06 3.9344613e-12]\n",
            " [2.2010626e-07 2.4351479e-13 1.9197753e-07 ... 5.7923955e-14\n",
            "  1.1503744e-06 1.9880996e-11]]\n",
            "[7 2 1 ... 4 5 6]\n"
          ]
        }
      ]
    },
    {
      "cell_type": "code",
      "source": [
        "#시각화 하여 확인하기 , imshow 에는 cmap=plt.cm.binary 옵션을 주어 흑백으로 처리하였다. \n",
        "for i in range (5):\n",
        "   print(predicted[i])\n",
        "   plt.imshow(x_test[i].squeeze(), cmap=plt.cm.binary)\n",
        "   plt.show()  "
      ],
      "metadata": {
        "colab": {
          "base_uri": "https://localhost:8080/",
          "height": 1000
        },
        "id": "61on4ZIlA_KE",
        "outputId": "b01eb26e-6b3f-4f59-8642-124be309d171"
      },
      "execution_count": null,
      "outputs": [
        {
          "output_type": "stream",
          "name": "stdout",
          "text": [
            "7\n"
          ]
        },
        {
          "output_type": "display_data",
          "data": {
            "text/plain": [
              "<Figure size 432x288 with 1 Axes>"
            ],
            "image/png": "[encoded data removed]"
          },
          "metadata": {
            "needs_background": "light"
          }
        },
        {
          "output_type": "stream",
          "name": "stdout",
          "text": [
            "2\n"
          ]
        },
        {
          "output_type": "display_data",
          "data": {
            "text/plain": [
              "<Figure size 432x288 with 1 Axes>"
            ],
            "image/png": "[encoded data removed]"
          },
          "metadata": {
            "needs_background": "light"
          }
        },
        {
          "output_type": "stream",
          "name": "stdout",
          "text": [
            "1\n"
          ]
        },
        {
          "output_type": "display_data",
          "data": {
            "text/plain": [
              "<Figure size 432x288 with 1 Axes>"
            ],
            "image/png": "[encoded data removed]"
          },
          "metadata": {
            "needs_background": "light"
          }
        },
        {
          "output_type": "stream",
          "name": "stdout",
          "text": [
            "0\n"
          ]
        },
        {
          "output_type": "display_data",
          "data": {
            "text/plain": [
              "<Figure size 432x288 with 1 Axes>"
            ],
            "image/png": "[encoded data removed]"
          },
          "metadata": {
            "needs_background": "light"
          }
        },
        {
          "output_type": "stream",
          "name": "stdout",
          "text": [
            "4\n"
          ]
        },
        {
          "output_type": "display_data",
          "data": {
            "text/plain": [
              "<Figure size 432x288 with 1 Axes>"
            ],
            "image/png": "[encoded data removed]"
          },
          "metadata": {
            "needs_background": "light"
          }
        }
      ]
    }
  ]
}