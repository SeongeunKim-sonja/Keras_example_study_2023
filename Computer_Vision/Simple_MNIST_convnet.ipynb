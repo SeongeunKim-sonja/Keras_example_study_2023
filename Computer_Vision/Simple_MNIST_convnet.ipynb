{
  "nbformat": 4,
  "nbformat_minor": 0,
  "metadata": {
    "colab": {
      "provenance": [],
      "authorship_tag": "ABX9TyOp4Qffzi3xg+PvwIsPZm2A",
      "include_colab_link": true
    },
    "kernelspec": {
      "name": "python3",
      "display_name": "Python 3"
    },
    "language_info": {
      "name": "python"
    }
  },
  "cells": [
    {
      "cell_type": "markdown",
      "metadata": {
        "id": "view-in-github",
        "colab_type": "text"
      },
      "source": [
        "<a href=\"https://colab.research.google.com/github/SeongeunKim-sonja/Keras_example_study_2023/blob/main/Computer_Vision/Simple_MNIST_convnet.ipynb\" target=\"_parent\"><img src=\"https://colab.research.google.com/assets/colab-badge.svg\" alt=\"Open In Colab\"/></a>"
      ]
    },
    {
      "cell_type": "markdown",
      "source": [
        "#단순한 MNIST CNN(합성곱 신경망) - 뒷부분 추가 중 \n",
        "\n",
        "*이 문서는 keras 예제를 분석하여 해설을 작성한 것입니다.*\n",
        "\n",
        "<br>[예제 페이지](https://keras.io/examples/vision/mnist_convnet/)\n",
        "<br>[링크]( )\n",
        "<br>[링크](링크)\n",
        "<br>\n",
        "<br>\n",
        "\n",
        "MNIST 데이터셋을 99%의 정확도로 분류 가능한 단순한 구조의 Convolution Neural Network를 구성해본다. "
      ],
      "metadata": {
        "id": "YUJuUSxL2GFt"
      }
    },
    {
      "cell_type": "markdown",
      "source": [
        "#Setup"
      ],
      "metadata": {
        "id": "1QaVQymJ2y4G"
      }
    },
    {
      "cell_type": "code",
      "execution_count": null,
      "metadata": {
        "id": "Gb-wd3iu12z-"
      },
      "outputs": [],
      "source": [
        "import numpy as np\n",
        "from tensorflow import keras\n",
        "from tensorflow.keras import layers"
      ]
    },
    {
      "cell_type": "markdown",
      "source": [
        "#데이터 준비\n",
        "\n"
      ],
      "metadata": {
        "id": "38nIxYha234A"
      }
    },
    {
      "cell_type": "code",
      "source": [
        "# Model / data parameters\n",
        "# 0~9까지의 숫자 손글씨 데이터 = 10개 클래스, 각각 가로세로 28px의 흑백 데이터\n",
        "num_classes = 10\n",
        "input_shape = (28, 28, 1)\n",
        "\n",
        "# Load the data and split it between train and test sets\n",
        "#데이터를 호출해 학습용 데이터와 실험용 데이터를 나눈다. \n",
        "(x_train, y_train), (x_test, y_test) = keras.datasets.mnist.load_data()\n",
        "\n",
        "# Scale images to the [0, 1] range\n",
        "# 흑백 이미지를 정규화한다. \n",
        "x_train = x_train.astype(\"float32\") / 255\n",
        "x_test = x_test.astype(\"float32\") / 255\n",
        "# Make sure images have shape (28, 28, 1)\n",
        "x_train = np.expand_dims(x_train, -1)   #축을 추가한한다. \n",
        "x_test = np.expand_dims(x_test, -1)\n",
        "print(\"x_train shape:\", x_train.shape)\n",
        "print(x_train.shape[0], \"train samples\")\n",
        "print(x_test.shape[0], \"test samples\")\n",
        "\n",
        "\n",
        "# convert class vectors to binary class matrices\n",
        "#결과값을 one-hot encoding 해주는 함수 utils.to_categorical\n",
        "y_train = keras.utils.to_categorical(y_train, num_classes)\n",
        "y_test = keras.utils.to_categorical(y_test, num_classes)"
      ],
      "metadata": {
        "id": "ElgvDQdQ3Kyv"
      },
      "execution_count": null,
      "outputs": []
    },
    {
      "cell_type": "markdown",
      "source": [
        "#CNN 모델 생성"
      ],
      "metadata": {
        "id": "b-lB7WqE5O2r"
      }
    },
    {
      "cell_type": "code",
      "source": [
        "model = keras.Sequential(\n",
        "    [\n",
        "        keras.Input(shape=input_shape),\n",
        "        layers.Conv2D(32, kernel_size=(3, 3), activation=\"relu\"),\n",
        "        layers.MaxPooling2D(pool_size=(2, 2)),\n",
        "        layers.Conv2D(64, kernel_size=(3, 3), activation=\"relu\"),\n",
        "        layers.MaxPooling2D(pool_size=(2, 2)),\n",
        "        layers.Flatten(),\n",
        "        layers.Dropout(0.5),\n",
        "        layers.Dense(num_classes, activation=\"softmax\"),\n",
        "    ]\n",
        "\n",
        ")"
      ],
      "metadata": {
        "id": "sLRLOEzi5cmD"
      },
      "execution_count": null,
      "outputs": []
    },
    {
      "cell_type": "markdown",
      "source": [
        "#모델 학습"
      ],
      "metadata": {
        "id": "q2AP1Azt6DiY"
      }
    },
    {
      "cell_type": "code",
      "source": [
        "batch_size = 128\n",
        "epochs = 15\n",
        "\n",
        "model.compile(loss=\"categorical_crossentropy\", optimizer=\"adam\", metrics=[\"accuracy\"])\n",
        "#여러 카테고리를 분류하니까 + one-hot 인코딩이므로 \n",
        "#loss function 은 categorical_crossentropy, \n",
        "#모델 마지막 레이어의 activation function 은 softmax\n",
        "\n",
        "model.fit(x_train, y_train, batch_size=batch_size, epochs=epochs, validation_split=0.1)\n",
        "#validation_split 설정시 그만큼의 데이터를 검증용으로 쓰겠다는 것을 의미한다. "
      ],
      "metadata": {
        "id": "NWdSpJEv6GHv"
      },
      "execution_count": null,
      "outputs": []
    }
  ]
}